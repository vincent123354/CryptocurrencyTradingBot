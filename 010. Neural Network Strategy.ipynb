{
 "cells": [
  {
   "cell_type": "markdown",
   "id": "c6f3d7f8",
   "metadata": {},
   "source": [
    "### Features\n",
    "1. Previous Close\n",
    "2. Previous High\n",
    "3. Previous Low\n",
    "4. Previous Open\n",
    "5. Previous xN OLHC\n",
    "5. RSI\n",
    "6. MACD\n",
    "7. EMA\n",
    "8. Other time frame OLHC\n",
    "    - Higher timeframe : add Open\n",
    "    - Lower timeframe : add OLHC\n",
    "9. Heikin Ashi\n",
    "10. Other timeframe HA\n",
    "\n",
    "### Labels\n",
    "1. Long / Short \n",
    "    - Next candle\n",
    "    - Next n candle\n",
    "\n",
    "### Optimization\n",
    "Optimize EMA window, RSI window\n",
    "\n",
    "### Important\n",
    "- Normalization range change, might meet unknown data (use percentage change)\n",
    "- Current label only for one candle, need use further future for data"
   ]
  },
  {
   "cell_type": "code",
   "execution_count": 60,
   "id": "2957700d",
   "metadata": {},
   "outputs": [],
   "source": [
    "import talib\n",
    "import glob\n",
    "import datetime\n",
    "\n",
    "import numpy as np\n",
    "import pandas as pd\n",
    "import matplotlib.pyplot as plt\n",
    "import mplfinance as mpf\n",
    "import seaborn as sns\n",
    "\n",
    "from tqdm.notebook import tqdm"
   ]
  },
  {
   "cell_type": "markdown",
   "id": "5c8099a9",
   "metadata": {},
   "source": [
    "## Data Preparation\n",
    "\n",
    "1. Read data\n",
    "    - Timeframe\n",
    "        - 1 day, 4 hour, 1 hour, 15 min\n",
    "2. Previous n timeframe OLHC\n",
    "3. Heikin Ashi\n",
    "    - Previous n timeframe HA OLHC\n",
    "4. RSI\n",
    "    - Previous n timeframe RSI\n",
    "5. Other timeframe data\n",
    "    - Higher timeframe - Open\n",
    "    - Lower timeframe - OLHC, HA_OLHC\n",
    "    - N previous other timeframe data\n",
    "6. Create Label\n",
    "    - Use drawdown / runup\n",
    "    - Close vs High > x %\n",
    "\n",
    "Drop NA column\n",
    "\n",
    "Drop 0 volume rows\n",
    "\n",
    "Drop High, Low, Close"
   ]
  },
  {
   "cell_type": "code",
   "execution_count": 299,
   "id": "7fe152d9",
   "metadata": {},
   "outputs": [],
   "source": [
    "def heikin_ashi(data):\n",
    "    ha_data = data.copy()\n",
    "    ha_data['Close'] = (data.Open + data.Low + data.Close + data.High) / 4\n",
    "\n",
    "    for i in range(data.shape[0]):\n",
    "        if i > 0:\n",
    "            ha_data['Open'].iloc[i] = (ha_data.iloc[i-1].Open + ha_data.iloc[i-1].Close) / 2\n",
    "    ha_data['High'] = ha_data[['High', 'Close', 'Open']].max(axis=1)\n",
    "    ha_data['Low'] = ha_data[['Low', 'Close', 'Open']].min(axis=1)\n",
    "    \n",
    "    return ha_data"
   ]
  },
  {
   "cell_type": "code",
   "execution_count": 300,
   "id": "9dcd2544",
   "metadata": {},
   "outputs": [],
   "source": [
    "data_timeframes = ['1day', '4hour', '1hour', '15min']\n",
    "df = []\n",
    "\n",
    "for t in data_timeframes:\n",
    "    data_paths = glob.glob('data/2022/*/ethusdt.{timeframe}*'.format(timeframe=t))\n",
    "    \n",
    "    tmp_df = pd.concat([pd.read_csv(d, index_col='Open time', usecols=['Open time', 'Open', 'High', 'Low', 'Close', 'Volume']) for d in data_paths])\n",
    "    tmp_df = tmp_df.drop_duplicates(keep='first').dropna()\n",
    "\n",
    "    tmp_df.index = pd.to_datetime(tmp_df.index)\n",
    "    tmp_df = tmp_df.sort_values('Open time')\n",
    "    \n",
    "    df.append(tmp_df)"
   ]
  },
  {
   "cell_type": "code",
   "execution_count": 301,
   "id": "b1c72b63",
   "metadata": {},
   "outputs": [],
   "source": [
    "data_1day = df[0]\n",
    "data_4hour = df[1]\n",
    "data_1hour = df[2]\n",
    "data_15min = df[3]"
   ]
  },
  {
   "cell_type": "code",
   "execution_count": 302,
   "id": "ca8d76ba",
   "metadata": {},
   "outputs": [],
   "source": [
    "# heikin ashi\n",
    "\n",
    "data_1day_ha = heikin_ashi(df[0])\n",
    "data_4hour_ha = heikin_ashi(df[1])\n",
    "data_1hour_ha = heikin_ashi(df[2])\n",
    "data_15min_ha = heikin_ashi(df[3])"
   ]
  },
  {
   "cell_type": "code",
   "execution_count": 303,
   "id": "c88ae1ac",
   "metadata": {},
   "outputs": [],
   "source": [
    "high_open_percent_change = (data_4hour.High - data_4hour.Open) / data_4hour.Open \n",
    "low_open_percent_change = (data_4hour.Low - data_4hour.Open) / data_4hour.Open \n",
    "close_open_percent_change = (data_4hour.Close - data_4hour.Open) / data_4hour.Open \n",
    "\n",
    "high_open_percent_change_ha = (data_4hour_ha.High - data_4hour_ha.Open) / data_4hour_ha.Open \n",
    "low_open_percent_change_ha = (data_4hour_ha.Low - data_4hour_ha.Open) / data_4hour_ha.Open \n",
    "close_open_percent_change_ha = (data_4hour_ha.Close - data_4hour_ha.Open) / data_4hour_ha.Open \n",
    "\n",
    "volume_change1 = data_4hour.Volume.pct_change(periods=1).rename('volume_change1')\n",
    "volume_change2= data_4hour.Volume.pct_change(periods=2).rename('volume_change2')\n",
    "volume_change3 = data_4hour.Volume.pct_change(periods=3).rename('volume_change3')"
   ]
  },
  {
   "cell_type": "code",
   "execution_count": 304,
   "id": "b3e14e5f",
   "metadata": {},
   "outputs": [],
   "source": [
    "df = pd.concat([high_open_percent_change, low_open_percent_change, close_open_percent_change,\n",
    "               high_open_percent_change_ha, low_open_percent_change_ha, close_open_percent_change_ha,\n",
    "               volume_change1, volume_change2, volume_change3], axis=1)\n",
    "df = df.rename(columns = {0: 'high_open_change', 1: 'low_open_change', 2: 'close_open_change',\n",
    "                         3: 'high_open_change_ha', 4: 'low_open_change_ha', 5: 'close_open_change_ha'})"
   ]
  },
  {
   "cell_type": "code",
   "execution_count": 305,
   "id": "810b9cb7",
   "metadata": {},
   "outputs": [],
   "source": [
    "# previous n timeframe OLHC\n",
    "\n",
    "for i in range(1,5):\n",
    "    df_shift = df.shift(i)\n",
    "\n",
    "    df['previous{n_shift}_high_open_change'.format(n_shift=i)] = df_shift['high_open_change']\n",
    "    df['previous{n_shift}_low_open_change'.format(n_shift=i)] = df_shift['low_open_change']\n",
    "    df['previous{n_shift}_close_open_change'.format(n_shift=i)] = df_shift['close_open_change']"
   ]
  },
  {
   "cell_type": "code",
   "execution_count": 306,
   "id": "82660483",
   "metadata": {},
   "outputs": [],
   "source": [
    "# previous n timeframe OLHC_HA\n",
    "\n",
    "for i in range(1,5):\n",
    "    df_ha_shift = df.shift(i)\n",
    "\n",
    "    df['previous{n_shift}_high_open_change_ha'.format(n_shift=i)] = df_ha_shift['high_open_change_ha']\n",
    "    df['previous{n_shift}_low_open_change_ha'.format(n_shift=i)] = df_ha_shift['low_open_change_ha']\n",
    "    df['previous{n_shift}_close_open_change_ha'.format(n_shift=i)] = df_ha_shift['close_open_change_ha']"
   ]
  },
  {
   "cell_type": "code",
   "execution_count": 307,
   "id": "3e4b4ff5",
   "metadata": {},
   "outputs": [],
   "source": [
    "# # RSI, previous RSI\n",
    "\n",
    "# data_4hour['rsi'] = talib.RSI(data_4hour.Close, timeperiod=14)\n",
    "\n",
    "# for i in range(1,5):\n",
    "#     df_shift = data_4hour.shift(i)\n",
    "    \n",
    "#     data_4hour['previous{n_shift}_rsi'.format(n_shift=i)] = df_shift['rsi']"
   ]
  },
  {
   "cell_type": "code",
   "execution_count": 308,
   "id": "f0e4c115",
   "metadata": {},
   "outputs": [],
   "source": [
    "tmp_high_open_percent_change = (data_1hour.High - data_1hour.Open) / data_1hour.Open \n",
    "tmp_low_open_percent_change = (data_1hour.Low - data_1hour.Open) / data_1hour.Open \n",
    "tmp_close_open_percent_change = (data_1hour.Close - data_1hour.Open) / data_1hour.Open \n",
    "\n",
    "tmp_high_open_percent_change_ha = (data_1hour_ha.High - data_1hour_ha.Open) / data_1hour_ha.Open \n",
    "tmp_low_open_percent_change_ha = (data_1hour_ha.Low - data_1hour_ha.Open) / data_1hour_ha.Open \n",
    "tmp_close_open_percent_change_ha = (data_1hour_ha.Close - data_1hour_ha.Open) / data_1hour_ha.Open \n",
    "\n",
    "tmp_volume_change1 = data_1hour.Volume.pct_change(periods=1).rename('volume_change1')\n",
    "tmp_volume_change2= data_1hour.Volume.pct_change(periods=2).rename('volume_change2')\n",
    "tmp_volume_change3 = data_1hour.Volume.pct_change(periods=3).rename('volume_change3')"
   ]
  },
  {
   "cell_type": "code",
   "execution_count": 309,
   "id": "06134e36",
   "metadata": {},
   "outputs": [],
   "source": [
    "tmp_data_1hour = pd.concat([tmp_high_open_percent_change, tmp_low_open_percent_change, tmp_close_open_percent_change,\n",
    "               tmp_high_open_percent_change_ha, tmp_low_open_percent_change_ha, tmp_close_open_percent_change_ha,\n",
    "               tmp_volume_change1, tmp_volume_change2, tmp_volume_change3], axis=1)\n",
    "tmp_data_1hour = tmp_data_1hour.rename(columns = {0: 'high_open_change', 1: 'low_open_change', 2: 'close_open_change',\n",
    "                         3: 'high_open_change_ha', 4: 'low_open_change_ha', 5: 'close_open_change_ha'})"
   ]
  },
  {
   "cell_type": "code",
   "execution_count": 310,
   "id": "0a45a633",
   "metadata": {},
   "outputs": [],
   "source": [
    "tmp_high_open_percent_change = (data_15min.High - data_15min.Open) / data_15min.Open \n",
    "tmp_low_open_percent_change = (data_15min.Low - data_15min.Open) / data_15min.Open \n",
    "tmp_close_open_percent_change = (data_15min.Close - data_15min.Open) / data_15min.Open \n",
    "\n",
    "tmp_high_open_percent_change_ha = (data_15min_ha.High - data_15min_ha.Open) / data_15min_ha.Open \n",
    "tmp_low_open_percent_change_ha = (data_15min_ha.Low - data_15min_ha.Open) / data_15min_ha.Open \n",
    "tmp_close_open_percent_change_ha = (data_15min_ha.Close - data_15min_ha.Open) / data_15min_ha.Open \n",
    "\n",
    "tmp_volume_change1 = data_15min.Volume.pct_change(periods=1).rename('volume_change1')\n",
    "tmp_volume_change2= data_15min.Volume.pct_change(periods=2).rename('volume_change2')\n",
    "tmp_volume_change3 = data_15min.Volume.pct_change(periods=3).rename('volume_change3')"
   ]
  },
  {
   "cell_type": "code",
   "execution_count": 311,
   "id": "e4a6a92e",
   "metadata": {},
   "outputs": [],
   "source": [
    "tmp_data_15min = pd.concat([tmp_high_open_percent_change, tmp_low_open_percent_change, tmp_close_open_percent_change,\n",
    "               tmp_high_open_percent_change_ha, tmp_low_open_percent_change_ha, tmp_close_open_percent_change_ha,\n",
    "               tmp_volume_change1, tmp_volume_change2, tmp_volume_change3], axis=1)\n",
    "tmp_data_15min = tmp_data_15min.rename(columns = {0: 'high_open_change', 1: 'low_open_change', 2: 'close_open_change',\n",
    "                         3: 'high_open_change_ha', 4: 'low_open_change_ha', 5: 'close_open_change_ha'})"
   ]
  },
  {
   "cell_type": "code",
   "execution_count": 312,
   "id": "1226bbcd",
   "metadata": {},
   "outputs": [
    {
     "data": {
      "application/vnd.jupyter.widget-view+json": {
       "model_id": "615d5d33275241b7b5642b1a79918577",
       "version_major": 2,
       "version_minor": 0
      },
      "text/plain": [
       "  0%|          | 0/1269 [00:00<?, ?it/s]"
      ]
     },
     "metadata": {},
     "output_type": "display_data"
    }
   ],
   "source": [
    "# Add other timeframe data\n",
    "# 1. numpy reshape (cannot, some data is missing)\n",
    "# 2. df filter by index datetime\n",
    "# 3. df Groupby \n",
    "\n",
    "# https://stackoverflow.com/questions/67252385/how-can-i-group-a-pandas-dataframe-by-time-with-a-minimal-amount-of-rows-for-eac\n",
    "# https://stackoverflow.com/questions/22898824/filtering-pandas-dataframes-on-dates\n",
    "\n",
    "data_1hour_to_4hour = []\n",
    "data_15min_to_4hour = []\n",
    "for i in tqdm(data_4hour.index):\n",
    "    data_1hour_to_4hour.append(tmp_data_1hour.loc[i - pd.Timedelta(hours=4): i - pd.Timedelta(hours=1)].to_numpy().flatten())\n",
    "    data_15min_to_4hour.append(tmp_data_15min.loc[i - pd.Timedelta(hours=4): i - pd.Timedelta(minutes=15)].to_numpy().flatten())\n",
    "data_1hour_to_4hour = pd.DataFrame(data_1hour_to_4hour)\n",
    "data_15min_to_4hour = pd.DataFrame(data_15min_to_4hour)\n",
    "    \n",
    "# a = pd.DataFrame(data=list(map(lambda x: list(x), data_1hour.groupby(pd.Grouper(level='Open time', freq='4h')).apply(lambda x: x.values.flatten()).values)))\n",
    "# b = pd.DataFrame(data=list(map(lambda x: list(x), data_15min.groupby(pd.Grouper(level='Open time', freq='4h')).apply(lambda x: x.values.flatten()).values)))"
   ]
  },
  {
   "cell_type": "code",
   "execution_count": 313,
   "id": "56fcb0b4",
   "metadata": {},
   "outputs": [],
   "source": [
    "df = pd.concat([df, data_1hour_to_4hour.set_index(data_4hour.index), data_15min_to_4hour.set_index(data_4hour.index)], axis=1)"
   ]
  },
  {
   "cell_type": "code",
   "execution_count": 314,
   "id": "6aa69b54",
   "metadata": {},
   "outputs": [],
   "source": [
    "# create label\n",
    "\n",
    "# 0 : ignore\n",
    "# 1 : long\n",
    "# 2 : short\n",
    "\n",
    "percentage_change = ((data_4hour.Close - data_4hour.Open) / data_4hour.Open * 100).values\n",
    "\n",
    "percentage_change[(percentage_change <= 0.5) & (percentage_change >= -0.5)] = 0\n",
    "percentage_change[percentage_change > 0.5] = 1\n",
    "percentage_change[percentage_change < -0.5] = 2\n",
    "\n",
    "df.loc[:, 'signal'] = percentage_change.astype(int)"
   ]
  },
  {
   "cell_type": "code",
   "execution_count": 315,
   "id": "336ced68",
   "metadata": {},
   "outputs": [],
   "source": [
    "df = df.replace([np.inf, -np.inf], np.nan).dropna(axis=0)"
   ]
  },
  {
   "cell_type": "code",
   "execution_count": 319,
   "id": "04b32dc7",
   "metadata": {},
   "outputs": [],
   "source": [
    "df = df.drop(columns=['high_open_change', 'low_open_change', 'close_open_change',\n",
    "       'high_open_change_ha', 'low_open_change_ha', 'close_open_change_ha',\n",
    "       'volume_change1', 'volume_change2', 'volume_change3'])"
   ]
  },
  {
   "cell_type": "markdown",
   "id": "fdd11748",
   "metadata": {},
   "source": [
    "## Model"
   ]
  },
  {
   "cell_type": "code",
   "execution_count": 320,
   "id": "81822ec4",
   "metadata": {},
   "outputs": [],
   "source": [
    "from sklearn.linear_model import LogisticRegression\n",
    "from sklearn.ensemble import AdaBoostClassifier\n",
    "from sklearn.metrics import confusion_matrix, plot_confusion_matrix\n",
    "from sklearn.model_selection import cross_val_score"
   ]
  },
  {
   "cell_type": "code",
   "execution_count": 321,
   "id": "4eced146",
   "metadata": {},
   "outputs": [],
   "source": [
    "test_size = 0.2\n",
    "\n",
    "x = df.drop(columns=['signal']).values\n",
    "y = df.signal.values"
   ]
  },
  {
   "cell_type": "code",
   "execution_count": 322,
   "id": "f5b15982",
   "metadata": {},
   "outputs": [],
   "source": [
    "train_size = int(len(x) * (1 - test_size))\n",
    "test_size = len(x) - train_size\n",
    "\n",
    "x_train = x[:train_size]\n",
    "y_train = y[:train_size]\n",
    "\n",
    "x_test = x[train_size:]\n",
    "y_test = y[train_size:]"
   ]
  },
  {
   "cell_type": "code",
   "execution_count": 323,
   "id": "e70533be",
   "metadata": {},
   "outputs": [],
   "source": [
    "log_reg = LogisticRegression()"
   ]
  },
  {
   "cell_type": "code",
   "execution_count": 324,
   "id": "8351dca8",
   "metadata": {
    "scrolled": true
   },
   "outputs": [
    {
     "name": "stderr",
     "output_type": "stream",
     "text": [
      "c:\\users\\user1\\appdata\\local\\programs\\python\\python39\\lib\\site-packages\\sklearn\\linear_model\\_logistic.py:814: ConvergenceWarning: lbfgs failed to converge (status=1):\n",
      "STOP: TOTAL NO. of ITERATIONS REACHED LIMIT.\n",
      "\n",
      "Increase the number of iterations (max_iter) or scale the data as shown in:\n",
      "    https://scikit-learn.org/stable/modules/preprocessing.html\n",
      "Please also refer to the documentation for alternative solver options:\n",
      "    https://scikit-learn.org/stable/modules/linear_model.html#logistic-regression\n",
      "  n_iter_i = _check_optimize_result(\n"
     ]
    },
    {
     "data": {
      "text/plain": [
       "LogisticRegression()"
      ]
     },
     "execution_count": 324,
     "metadata": {},
     "output_type": "execute_result"
    }
   ],
   "source": [
    "log_reg.fit(x_train, y_train)"
   ]
  },
  {
   "cell_type": "code",
   "execution_count": 325,
   "id": "63630753",
   "metadata": {},
   "outputs": [
    {
     "data": {
      "text/plain": [
       "547"
      ]
     },
     "execution_count": 325,
     "metadata": {},
     "output_type": "execute_result"
    }
   ],
   "source": [
    "sum(log_reg.predict(x) == y)"
   ]
  },
  {
   "cell_type": "code",
   "execution_count": 326,
   "id": "8d597689",
   "metadata": {},
   "outputs": [
    {
     "data": {
      "text/plain": [
       "False"
      ]
     },
     "execution_count": 326,
     "metadata": {},
     "output_type": "execute_result"
    }
   ],
   "source": [
    "data_4hour.isnull().sum().any()"
   ]
  },
  {
   "cell_type": "code",
   "execution_count": 327,
   "id": "1a79e2c8",
   "metadata": {},
   "outputs": [
    {
     "name": "stderr",
     "output_type": "stream",
     "text": [
      "c:\\users\\user1\\appdata\\local\\programs\\python\\python39\\lib\\site-packages\\sklearn\\utils\\deprecation.py:87: FutureWarning: Function plot_confusion_matrix is deprecated; Function `plot_confusion_matrix` is deprecated in 1.0 and will be removed in 1.2. Use one of the class methods: ConfusionMatrixDisplay.from_predictions or ConfusionMatrixDisplay.from_estimator.\n",
      "  warnings.warn(msg, category=FutureWarning)\n"
     ]
    },
    {
     "data": {
      "text/plain": [
       "<sklearn.metrics._plot.confusion_matrix.ConfusionMatrixDisplay at 0x272c056c970>"
      ]
     },
     "execution_count": 327,
     "metadata": {},
     "output_type": "execute_result"
    },
    {
     "data": {
      "image/png": "[encoded data removed]",
      "text/plain": [
       "<Figure size 432x288 with 2 Axes>"
      ]
     },
     "metadata": {
      "needs_background": "light"
     },
     "output_type": "display_data"
    }
   ],
   "source": [
    "plot_confusion_matrix(log_reg, x_train, y_train)"
   ]
  },
  {
   "cell_type": "code",
   "execution_count": 328,
   "id": "7a5cf81f",
   "metadata": {},
   "outputs": [
    {
     "name": "stderr",
     "output_type": "stream",
     "text": [
      "c:\\users\\user1\\appdata\\local\\programs\\python\\python39\\lib\\site-packages\\sklearn\\utils\\deprecation.py:87: FutureWarning: Function plot_confusion_matrix is deprecated; Function `plot_confusion_matrix` is deprecated in 1.0 and will be removed in 1.2. Use one of the class methods: ConfusionMatrixDisplay.from_predictions or ConfusionMatrixDisplay.from_estimator.\n",
      "  warnings.warn(msg, category=FutureWarning)\n"
     ]
    },
    {
     "data": {
      "text/plain": [
       "<sklearn.metrics._plot.confusion_matrix.ConfusionMatrixDisplay at 0x272d320e160>"
      ]
     },
     "execution_count": 328,
     "metadata": {},
     "output_type": "execute_result"
    },
    {
     "data": {
      "image/png": "[encoded data removed]",
      "text/plain": [
       "<Figure size 432x288 with 2 Axes>"
      ]
     },
     "metadata": {
      "needs_background": "light"
     },
     "output_type": "display_data"
    }
   ],
   "source": [
    "plot_confusion_matrix(log_reg, x_test, y_test)"
   ]
  },
  {
   "cell_type": "code",
   "execution_count": 329,
   "id": "83f1be7d",
   "metadata": {},
   "outputs": [],
   "source": [
    "adaboost = AdaBoostClassifier()"
   ]
  },
  {
   "cell_type": "code",
   "execution_count": 330,
   "id": "50b5f519",
   "metadata": {},
   "outputs": [
    {
     "data": {
      "text/plain": [
       "AdaBoostClassifier()"
      ]
     },
     "execution_count": 330,
     "metadata": {},
     "output_type": "execute_result"
    }
   ],
   "source": [
    "adaboost.fit(x_train, y_train)"
   ]
  },
  {
   "cell_type": "code",
   "execution_count": 331,
   "id": "c81192b6",
   "metadata": {},
   "outputs": [
    {
     "data": {
      "text/plain": [
       "array([0.35148515, 0.34653465, 0.37128713, 0.42079208, 0.37623762])"
      ]
     },
     "execution_count": 331,
     "metadata": {},
     "output_type": "execute_result"
    }
   ],
   "source": [
    "cross_val_score(adaboost, x_train, y_train, cv=5)"
   ]
  },
  {
   "cell_type": "code",
   "execution_count": 332,
   "id": "972c3681",
   "metadata": {},
   "outputs": [
    {
     "name": "stderr",
     "output_type": "stream",
     "text": [
      "c:\\users\\user1\\appdata\\local\\programs\\python\\python39\\lib\\site-packages\\sklearn\\utils\\deprecation.py:87: FutureWarning: Function plot_confusion_matrix is deprecated; Function `plot_confusion_matrix` is deprecated in 1.0 and will be removed in 1.2. Use one of the class methods: ConfusionMatrixDisplay.from_predictions or ConfusionMatrixDisplay.from_estimator.\n",
      "  warnings.warn(msg, category=FutureWarning)\n"
     ]
    },
    {
     "data": {
      "text/plain": [
       "<sklearn.metrics._plot.confusion_matrix.ConfusionMatrixDisplay at 0x272d7f0f640>"
      ]
     },
     "execution_count": 332,
     "metadata": {},
     "output_type": "execute_result"
    },
    {
     "data": {
      "image/png": "[encoded data removed]",
      "text/plain": [
       "<Figure size 432x288 with 2 Axes>"
      ]
     },
     "metadata": {
      "needs_background": "light"
     },
     "output_type": "display_data"
    }
   ],
   "source": [
    "plot_confusion_matrix(adaboost, x_train, y_train)"
   ]
  },
  {
   "cell_type": "code",
   "execution_count": 333,
   "id": "0ba2cf11",
   "metadata": {},
   "outputs": [
    {
     "name": "stderr",
     "output_type": "stream",
     "text": [
      "c:\\users\\user1\\appdata\\local\\programs\\python\\python39\\lib\\site-packages\\sklearn\\utils\\deprecation.py:87: FutureWarning: Function plot_confusion_matrix is deprecated; Function `plot_confusion_matrix` is deprecated in 1.0 and will be removed in 1.2. Use one of the class methods: ConfusionMatrixDisplay.from_predictions or ConfusionMatrixDisplay.from_estimator.\n",
      "  warnings.warn(msg, category=FutureWarning)\n"
     ]
    },
    {
     "data": {
      "text/plain": [
       "<sklearn.metrics._plot.confusion_matrix.ConfusionMatrixDisplay at 0x272d8b0d640>"
      ]
     },
     "execution_count": 333,
     "metadata": {},
     "output_type": "execute_result"
    },
    {
     "data": {
      "image/png": "[encoded data removed]",
      "text/plain": [
       "<Figure size 432x288 with 2 Axes>"
      ]
     },
     "metadata": {
      "needs_background": "light"
     },
     "output_type": "display_data"
    }
   ],
   "source": [
    "plot_confusion_matrix(log_reg, x_test, y_test)"
   ]
  },
  {
   "cell_type": "code",
   "execution_count": null,
   "id": "cd382959",
   "metadata": {},
   "outputs": [],
   "source": [
    "import torch\n",
    "import torch.nn as nn\n",
    "import torch.nn.functional as F\n",
    "import torch.optim as optim\n"
   ]
  },
  {
   "cell_type": "code",
   "execution_count": null,
   "id": "6ccc62a8",
   "metadata": {},
   "outputs": [],
   "source": [
    "def train(net, dataloader, criterion, optimizer, device):\n",
    "    net.train()\n",
    "    running_loss = 0\n",
    "    for idx, (x, y) in enumerate(dataloader):\n",
    "        print('\\r{:.2f}%'.format((idx+1) / len(dataloader) * 100), end='')\n",
    "        x = x.to(device)\n",
    "        y = y.to(device)\n",
    "\n",
    "        optimizer.zero_grad()\n",
    "\n",
    "        predict = net(x)\n",
    "        loss = criterion(predict, y)\n",
    "\n",
    "        loss.backward()\n",
    "        optimizer.step()\n",
    "\n",
    "        running_loss += loss.item()\n",
    "    return running_loss / len(dataloader)"
   ]
  },
  {
   "cell_type": "code",
   "execution_count": null,
   "id": "9c509726",
   "metadata": {},
   "outputs": [],
   "source": [
    "def evaluate(net, dataloader, criterion, device):\n",
    "    net.eval()\n",
    "\n",
    "    predicts = []\n",
    "    labels = []\n",
    "    running_loss = 0\n",
    "    \n",
    "    with torch.no_grad():\n",
    "        for idx, (x, y) in enumerate(dataloader):\n",
    "            print('\\r{:.2f}%'.format((idx+1) / len(dataloader) * 100), end='')\n",
    "\n",
    "            x = x.to(device)\n",
    "            y = y.to(device)\n",
    "\n",
    "            predict = net(x)\n",
    "            loss = criterion(predict, y)\n",
    "\n",
    "            predict = F.softmax(predict, dim=1).argmax(axis=1)\n",
    "            predicts.append(predict.cpu().numpy())\n",
    "            labels.append(y.cpu().numpy())\n",
    "            running_loss += loss.item()\n",
    "\n",
    "    return np.concatenate(predicts), np.concatenate(labels), running_loss / len(dataloader)"
   ]
  },
  {
   "cell_type": "markdown",
   "id": "b8675e82",
   "metadata": {},
   "source": [
    "## Inference"
   ]
  },
  {
   "cell_type": "code",
   "execution_count": 334,
   "id": "bc8de67b",
   "metadata": {},
   "outputs": [],
   "source": [
    "from Trader import Trader"
   ]
  },
  {
   "cell_type": "code",
   "execution_count": 335,
   "id": "c685a14f",
   "metadata": {},
   "outputs": [],
   "source": [
    "trader = Trader(account_size=100, leverage=20, fixed_margin=False, margin=0.1)\n",
    "\n",
    "stoploss = None\n",
    "rr = 2\n",
    "tp_ratio = 0.02\n",
    "tp = None\n",
    "\n",
    "for idx, x_tmp in df.iloc[-test_size:].drop(columns=['signal']).iterrows():\n",
    "    d = data_4hour.loc[x_tmp.name]\n",
    "    signal = log_reg.predict([x_tmp])[0]\n",
    "    if signal == 2:\n",
    "        # short\n",
    "        trader.open_pos(d.Open, 'short', entry_date = idx)\n",
    "        trader.close_pos(d.Close, exit_date=idx)\n",
    "        \n",
    "    elif signal == 1:\n",
    "        # long\n",
    "        trader.open_pos(d.Open, 'long', entry_date = idx)\n",
    "        trader.close_pos(d.Close, exit_date=idx)\n",
    "\n",
    "    if trader.position != None:\n",
    "        if trader.is_liquidated(d.Open):\n",
    "            print('liquidated')\n",
    "            break"
   ]
  },
  {
   "cell_type": "code",
   "execution_count": 336,
   "id": "970facd8",
   "metadata": {},
   "outputs": [
    {
     "name": "stdout",
     "output_type": "stream",
     "text": [
      "TP count :  0\n",
      "SL count :  0\n",
      "Win rate : 55.06%\n",
      "Long win rate : 40.23%\n",
      "Short win rate : 59.77%\n"
     ]
    }
   ],
   "source": [
    "result = pd.DataFrame(trader.history).set_index('entry_date')\n",
    "\n",
    "win = result[result.percentage > 0]\n",
    "print('Win rate : {:.2f}%'.format((len(win) / len(result) * 100)))\n",
    "print('Long win rate : {:.2f}%'.format(len(win[win.position == 'long']) / len(win) * 100))\n",
    "print('Short win rate : {:.2f}%'.format(len(win[win.position == 'short']) / len(win) * 100))"
   ]
  },
  {
   "cell_type": "code",
   "execution_count": 337,
   "id": "d29550a3",
   "metadata": {},
   "outputs": [
    {
     "data": {
      "text/plain": [
       "[<matplotlib.lines.Line2D at 0x272d86e98e0>]"
      ]
     },
     "execution_count": 337,
     "metadata": {},
     "output_type": "execute_result"
    },
    {
     "data": {
      "image/png": "[encoded data removed]",
      "text/plain": [
       "<Figure size 864x576 with 1 Axes>"
      ]
     },
     "metadata": {
      "needs_background": "light"
     },
     "output_type": "display_data"
    }
   ],
   "source": [
    "plt.figure(figsize=(12,8))\n",
    "plt.plot(result.account_size)"
   ]
  },
  {
   "cell_type": "code",
   "execution_count": 338,
   "id": "95248711",
   "metadata": {
    "scrolled": true
   },
   "outputs": [
    {
     "data": {
      "text/html": [
       "<div>\n",
       "<style scoped>\n",
       "    .dataframe tbody tr th:only-of-type {\n",
       "        vertical-align: middle;\n",
       "    }\n",
       "\n",
       "    .dataframe tbody tr th {\n",
       "        vertical-align: top;\n",
       "    }\n",
       "\n",
       "    .dataframe thead th {\n",
       "        text-align: right;\n",
       "    }\n",
       "</style>\n",
       "<table border=\"1\" class=\"dataframe\">\n",
       "  <thead>\n",
       "    <tr style=\"text-align: right;\">\n",
       "      <th></th>\n",
       "      <th>entry_price</th>\n",
       "      <th>position</th>\n",
       "      <th>entry_margin</th>\n",
       "      <th>entry_fee</th>\n",
       "      <th>number_contract</th>\n",
       "      <th>exit_price</th>\n",
       "      <th>profit</th>\n",
       "      <th>percentage</th>\n",
       "      <th>exit_fee</th>\n",
       "      <th>account_size</th>\n",
       "      <th>exit_date</th>\n",
       "    </tr>\n",
       "    <tr>\n",
       "      <th>entry_date</th>\n",
       "      <th></th>\n",
       "      <th></th>\n",
       "      <th></th>\n",
       "      <th></th>\n",
       "      <th></th>\n",
       "      <th></th>\n",
       "      <th></th>\n",
       "      <th></th>\n",
       "      <th></th>\n",
       "      <th></th>\n",
       "      <th></th>\n",
       "    </tr>\n",
       "  </thead>\n",
       "  <tbody>\n",
       "    <tr>\n",
       "      <th>2022-06-19 08:00:00</th>\n",
       "      <td>955.19</td>\n",
       "      <td>long</td>\n",
       "      <td>10.000000</td>\n",
       "      <td>0.080000</td>\n",
       "      <td>0.209382</td>\n",
       "      <td>1054.63</td>\n",
       "      <td>20.820988</td>\n",
       "      <td>2.082099</td>\n",
       "      <td>0.080000</td>\n",
       "      <td>120.660988</td>\n",
       "      <td>2022-06-19 08:00:00</td>\n",
       "    </tr>\n",
       "    <tr>\n",
       "      <th>2022-06-19 12:00:00</th>\n",
       "      <td>1054.63</td>\n",
       "      <td>short</td>\n",
       "      <td>12.066099</td>\n",
       "      <td>0.096529</td>\n",
       "      <td>0.228821</td>\n",
       "      <td>1071.06</td>\n",
       "      <td>-3.759537</td>\n",
       "      <td>-0.311578</td>\n",
       "      <td>0.096529</td>\n",
       "      <td>116.708394</td>\n",
       "      <td>2022-06-19 12:00:00</td>\n",
       "    </tr>\n",
       "    <tr>\n",
       "      <th>2022-06-19 16:00:00</th>\n",
       "      <td>1071.07</td>\n",
       "      <td>short</td>\n",
       "      <td>11.670839</td>\n",
       "      <td>0.093367</td>\n",
       "      <td>0.217929</td>\n",
       "      <td>1099.81</td>\n",
       "      <td>-6.263268</td>\n",
       "      <td>-0.536660</td>\n",
       "      <td>0.093367</td>\n",
       "      <td>110.258393</td>\n",
       "      <td>2022-06-19 16:00:00</td>\n",
       "    </tr>\n",
       "    <tr>\n",
       "      <th>2022-06-20 04:00:00</th>\n",
       "      <td>1079.10</td>\n",
       "      <td>short</td>\n",
       "      <td>11.025839</td>\n",
       "      <td>0.088207</td>\n",
       "      <td>0.204353</td>\n",
       "      <td>1079.21</td>\n",
       "      <td>-0.022479</td>\n",
       "      <td>-0.002039</td>\n",
       "      <td>0.088207</td>\n",
       "      <td>110.059501</td>\n",
       "      <td>2022-06-20 04:00:00</td>\n",
       "    </tr>\n",
       "    <tr>\n",
       "      <th>2022-06-20 08:00:00</th>\n",
       "      <td>1079.22</td>\n",
       "      <td>short</td>\n",
       "      <td>11.005950</td>\n",
       "      <td>0.088048</td>\n",
       "      <td>0.203961</td>\n",
       "      <td>1152.59</td>\n",
       "      <td>-14.964633</td>\n",
       "      <td>-1.359686</td>\n",
       "      <td>0.088048</td>\n",
       "      <td>94.918773</td>\n",
       "      <td>2022-06-20 08:00:00</td>\n",
       "    </tr>\n",
       "    <tr>\n",
       "      <th>...</th>\n",
       "      <td>...</td>\n",
       "      <td>...</td>\n",
       "      <td>...</td>\n",
       "      <td>...</td>\n",
       "      <td>...</td>\n",
       "      <td>...</td>\n",
       "      <td>...</td>\n",
       "      <td>...</td>\n",
       "      <td>...</td>\n",
       "      <td>...</td>\n",
       "      <td>...</td>\n",
       "    </tr>\n",
       "    <tr>\n",
       "      <th>2022-07-30 16:00:00</th>\n",
       "      <td>1736.08</td>\n",
       "      <td>short</td>\n",
       "      <td>9.612166</td>\n",
       "      <td>0.076897</td>\n",
       "      <td>0.110734</td>\n",
       "      <td>1691.25</td>\n",
       "      <td>4.964211</td>\n",
       "      <td>0.516451</td>\n",
       "      <td>0.076897</td>\n",
       "      <td>100.932077</td>\n",
       "      <td>2022-07-30 16:00:00</td>\n",
       "    </tr>\n",
       "    <tr>\n",
       "      <th>2022-07-30 20:00:00</th>\n",
       "      <td>1691.25</td>\n",
       "      <td>short</td>\n",
       "      <td>10.093208</td>\n",
       "      <td>0.080746</td>\n",
       "      <td>0.119358</td>\n",
       "      <td>1696.68</td>\n",
       "      <td>-0.648114</td>\n",
       "      <td>-0.064213</td>\n",
       "      <td>0.080746</td>\n",
       "      <td>100.122472</td>\n",
       "      <td>2022-07-30 20:00:00</td>\n",
       "    </tr>\n",
       "    <tr>\n",
       "      <th>2022-07-31 00:00:00</th>\n",
       "      <td>1696.68</td>\n",
       "      <td>short</td>\n",
       "      <td>10.012247</td>\n",
       "      <td>0.080098</td>\n",
       "      <td>0.118022</td>\n",
       "      <td>1693.30</td>\n",
       "      <td>0.398913</td>\n",
       "      <td>0.039843</td>\n",
       "      <td>0.080098</td>\n",
       "      <td>100.361189</td>\n",
       "      <td>2022-07-31 00:00:00</td>\n",
       "    </tr>\n",
       "    <tr>\n",
       "      <th>2022-07-31 04:00:00</th>\n",
       "      <td>1693.30</td>\n",
       "      <td>long</td>\n",
       "      <td>10.036119</td>\n",
       "      <td>0.080289</td>\n",
       "      <td>0.118539</td>\n",
       "      <td>1696.97</td>\n",
       "      <td>0.435039</td>\n",
       "      <td>0.043347</td>\n",
       "      <td>0.080289</td>\n",
       "      <td>100.635650</td>\n",
       "      <td>2022-07-31 04:00:00</td>\n",
       "    </tr>\n",
       "    <tr>\n",
       "      <th>2022-07-31 08:00:00</th>\n",
       "      <td>1696.98</td>\n",
       "      <td>short</td>\n",
       "      <td>10.063565</td>\n",
       "      <td>0.080509</td>\n",
       "      <td>0.118606</td>\n",
       "      <td>1693.06</td>\n",
       "      <td>0.464934</td>\n",
       "      <td>0.046200</td>\n",
       "      <td>0.080509</td>\n",
       "      <td>100.939567</td>\n",
       "      <td>2022-07-31 08:00:00</td>\n",
       "    </tr>\n",
       "  </tbody>\n",
       "</table>\n",
       "<p>158 rows × 11 columns</p>\n",
       "</div>"
      ],
      "text/plain": [
       "                     entry_price position  entry_margin  entry_fee  \\\n",
       "entry_date                                                           \n",
       "2022-06-19 08:00:00       955.19     long     10.000000   0.080000   \n",
       "2022-06-19 12:00:00      1054.63    short     12.066099   0.096529   \n",
       "2022-06-19 16:00:00      1071.07    short     11.670839   0.093367   \n",
       "2022-06-20 04:00:00      1079.10    short     11.025839   0.088207   \n",
       "2022-06-20 08:00:00      1079.22    short     11.005950   0.088048   \n",
       "...                          ...      ...           ...        ...   \n",
       "2022-07-30 16:00:00      1736.08    short      9.612166   0.076897   \n",
       "2022-07-30 20:00:00      1691.25    short     10.093208   0.080746   \n",
       "2022-07-31 00:00:00      1696.68    short     10.012247   0.080098   \n",
       "2022-07-31 04:00:00      1693.30     long     10.036119   0.080289   \n",
       "2022-07-31 08:00:00      1696.98    short     10.063565   0.080509   \n",
       "\n",
       "                     number_contract  exit_price     profit  percentage  \\\n",
       "entry_date                                                                \n",
       "2022-06-19 08:00:00         0.209382     1054.63  20.820988    2.082099   \n",
       "2022-06-19 12:00:00         0.228821     1071.06  -3.759537   -0.311578   \n",
       "2022-06-19 16:00:00         0.217929     1099.81  -6.263268   -0.536660   \n",
       "2022-06-20 04:00:00         0.204353     1079.21  -0.022479   -0.002039   \n",
       "2022-06-20 08:00:00         0.203961     1152.59 -14.964633   -1.359686   \n",
       "...                              ...         ...        ...         ...   \n",
       "2022-07-30 16:00:00         0.110734     1691.25   4.964211    0.516451   \n",
       "2022-07-30 20:00:00         0.119358     1696.68  -0.648114   -0.064213   \n",
       "2022-07-31 00:00:00         0.118022     1693.30   0.398913    0.039843   \n",
       "2022-07-31 04:00:00         0.118539     1696.97   0.435039    0.043347   \n",
       "2022-07-31 08:00:00         0.118606     1693.06   0.464934    0.046200   \n",
       "\n",
       "                     exit_fee  account_size           exit_date  \n",
       "entry_date                                                       \n",
       "2022-06-19 08:00:00  0.080000    120.660988 2022-06-19 08:00:00  \n",
       "2022-06-19 12:00:00  0.096529    116.708394 2022-06-19 12:00:00  \n",
       "2022-06-19 16:00:00  0.093367    110.258393 2022-06-19 16:00:00  \n",
       "2022-06-20 04:00:00  0.088207    110.059501 2022-06-20 04:00:00  \n",
       "2022-06-20 08:00:00  0.088048     94.918773 2022-06-20 08:00:00  \n",
       "...                       ...           ...                 ...  \n",
       "2022-07-30 16:00:00  0.076897    100.932077 2022-07-30 16:00:00  \n",
       "2022-07-30 20:00:00  0.080746    100.122472 2022-07-30 20:00:00  \n",
       "2022-07-31 00:00:00  0.080098    100.361189 2022-07-31 00:00:00  \n",
       "2022-07-31 04:00:00  0.080289    100.635650 2022-07-31 04:00:00  \n",
       "2022-07-31 08:00:00  0.080509    100.939567 2022-07-31 08:00:00  \n",
       "\n",
       "[158 rows x 11 columns]"
      ]
     },
     "execution_count": 338,
     "metadata": {},
     "output_type": "execute_result"
    }
   ],
   "source": [
    "result"
   ]
  },
  {
   "cell_type": "code",
   "execution_count": 339,
   "id": "729f4f0e",
   "metadata": {
    "scrolled": true
   },
   "outputs": [
    {
     "data": {
      "text/html": [
       "<div>\n",
       "<style scoped>\n",
       "    .dataframe tbody tr th:only-of-type {\n",
       "        vertical-align: middle;\n",
       "    }\n",
       "\n",
       "    .dataframe tbody tr th {\n",
       "        vertical-align: top;\n",
       "    }\n",
       "\n",
       "    .dataframe thead th {\n",
       "        text-align: right;\n",
       "    }\n",
       "</style>\n",
       "<table border=\"1\" class=\"dataframe\">\n",
       "  <thead>\n",
       "    <tr style=\"text-align: right;\">\n",
       "      <th></th>\n",
       "      <th>Open</th>\n",
       "      <th>High</th>\n",
       "      <th>Low</th>\n",
       "      <th>Close</th>\n",
       "      <th>Volume</th>\n",
       "    </tr>\n",
       "    <tr>\n",
       "      <th>entry_date</th>\n",
       "      <th></th>\n",
       "      <th></th>\n",
       "      <th></th>\n",
       "      <th></th>\n",
       "      <th></th>\n",
       "    </tr>\n",
       "  </thead>\n",
       "  <tbody>\n",
       "    <tr>\n",
       "      <th>2022-06-19 08:00:00</th>\n",
       "      <td>955.19</td>\n",
       "      <td>1080.67</td>\n",
       "      <td>951.98</td>\n",
       "      <td>1054.63</td>\n",
       "      <td>2471637.172</td>\n",
       "    </tr>\n",
       "    <tr>\n",
       "      <th>2022-06-19 12:00:00</th>\n",
       "      <td>1054.63</td>\n",
       "      <td>1079.20</td>\n",
       "      <td>1017.50</td>\n",
       "      <td>1071.06</td>\n",
       "      <td>1738780.526</td>\n",
       "    </tr>\n",
       "    <tr>\n",
       "      <th>2022-06-19 16:00:00</th>\n",
       "      <td>1071.07</td>\n",
       "      <td>1131.54</td>\n",
       "      <td>1042.17</td>\n",
       "      <td>1099.81</td>\n",
       "      <td>1486709.221</td>\n",
       "    </tr>\n",
       "    <tr>\n",
       "      <th>2022-06-20 04:00:00</th>\n",
       "      <td>1079.10</td>\n",
       "      <td>1093.00</td>\n",
       "      <td>1059.70</td>\n",
       "      <td>1079.21</td>\n",
       "      <td>1026475.427</td>\n",
       "    </tr>\n",
       "    <tr>\n",
       "      <th>2022-06-20 08:00:00</th>\n",
       "      <td>1079.22</td>\n",
       "      <td>1174.00</td>\n",
       "      <td>1076.24</td>\n",
       "      <td>1152.59</td>\n",
       "      <td>2119796.928</td>\n",
       "    </tr>\n",
       "    <tr>\n",
       "      <th>...</th>\n",
       "      <td>...</td>\n",
       "      <td>...</td>\n",
       "      <td>...</td>\n",
       "      <td>...</td>\n",
       "      <td>...</td>\n",
       "    </tr>\n",
       "    <tr>\n",
       "      <th>2022-07-30 16:00:00</th>\n",
       "      <td>1736.08</td>\n",
       "      <td>1737.10</td>\n",
       "      <td>1688.24</td>\n",
       "      <td>1691.25</td>\n",
       "      <td>677687.396</td>\n",
       "    </tr>\n",
       "    <tr>\n",
       "      <th>2022-07-30 20:00:00</th>\n",
       "      <td>1691.25</td>\n",
       "      <td>1708.30</td>\n",
       "      <td>1671.00</td>\n",
       "      <td>1696.68</td>\n",
       "      <td>841498.845</td>\n",
       "    </tr>\n",
       "    <tr>\n",
       "      <th>2022-07-31 00:00:00</th>\n",
       "      <td>1696.68</td>\n",
       "      <td>1715.09</td>\n",
       "      <td>1685.80</td>\n",
       "      <td>1693.30</td>\n",
       "      <td>580817.975</td>\n",
       "    </tr>\n",
       "    <tr>\n",
       "      <th>2022-07-31 04:00:00</th>\n",
       "      <td>1693.30</td>\n",
       "      <td>1708.21</td>\n",
       "      <td>1688.70</td>\n",
       "      <td>1696.97</td>\n",
       "      <td>388858.432</td>\n",
       "    </tr>\n",
       "    <tr>\n",
       "      <th>2022-07-31 08:00:00</th>\n",
       "      <td>1696.98</td>\n",
       "      <td>1701.70</td>\n",
       "      <td>1689.20</td>\n",
       "      <td>1693.06</td>\n",
       "      <td>59311.442</td>\n",
       "    </tr>\n",
       "  </tbody>\n",
       "</table>\n",
       "<p>158 rows × 5 columns</p>\n",
       "</div>"
      ],
      "text/plain": [
       "                        Open     High      Low    Close       Volume\n",
       "entry_date                                                          \n",
       "2022-06-19 08:00:00   955.19  1080.67   951.98  1054.63  2471637.172\n",
       "2022-06-19 12:00:00  1054.63  1079.20  1017.50  1071.06  1738780.526\n",
       "2022-06-19 16:00:00  1071.07  1131.54  1042.17  1099.81  1486709.221\n",
       "2022-06-20 04:00:00  1079.10  1093.00  1059.70  1079.21  1026475.427\n",
       "2022-06-20 08:00:00  1079.22  1174.00  1076.24  1152.59  2119796.928\n",
       "...                      ...      ...      ...      ...          ...\n",
       "2022-07-30 16:00:00  1736.08  1737.10  1688.24  1691.25   677687.396\n",
       "2022-07-30 20:00:00  1691.25  1708.30  1671.00  1696.68   841498.845\n",
       "2022-07-31 00:00:00  1696.68  1715.09  1685.80  1693.30   580817.975\n",
       "2022-07-31 04:00:00  1693.30  1708.21  1688.70  1696.97   388858.432\n",
       "2022-07-31 08:00:00  1696.98  1701.70  1689.20  1693.06    59311.442\n",
       "\n",
       "[158 rows x 5 columns]"
      ]
     },
     "execution_count": 339,
     "metadata": {},
     "output_type": "execute_result"
    }
   ],
   "source": [
    "data_4hour.loc[result.index]"
   ]
  },
  {
   "cell_type": "code",
   "execution_count": null,
   "id": "0b0b5571",
   "metadata": {},
   "outputs": [],
   "source": []
  },
  {
   "cell_type": "code",
   "execution_count": null,
   "id": "87826afb",
   "metadata": {},
   "outputs": [],
   "source": []
  },
  {
   "cell_type": "code",
   "execution_count": null,
   "id": "1dc6e8a7",
   "metadata": {},
   "outputs": [],
   "source": []
  }
 ],
 "metadata": {
  "kernelspec": {
   "display_name": "Python 3 (ipykernel)",
   "language": "python",
   "name": "python3"
  },
  "language_info": {
   "codemirror_mode": {
    "name": "ipython",
    "version": 3
   },
   "file_extension": ".py",
   "mimetype": "text/x-python",
   "name": "python",
   "nbconvert_exporter": "python",
   "pygments_lexer": "ipython3",
   "version": "3.9.5"
  }
 },
 "nbformat": 4,
 "nbformat_minor": 5
}
