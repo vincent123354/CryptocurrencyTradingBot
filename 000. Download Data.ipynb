{
 "cells": [
  {
   "cell_type": "code",
   "execution_count": 4,
   "id": "e68c9fca",
   "metadata": {},
   "outputs": [],
   "source": [
    "import os\n",
    "import pandas as pd\n",
    "from binance.client import Client\n",
    "from binance.enums import HistoricalKlinesType\n",
    "\n",
    "api_key = 'y9m94JvyDsSRyHZUQjNN1lVfDnduNMFyQxz83EW650XKwgbIXxB85xGv7CDQfW8Z'\n",
    "api_secret = 'cHvzTpnE3Qp468ZcAIadtIQSKvV6HdbXsnwbTAhlTCg9Q0uydcxVKUwP7rqLrcpl'\n",
    "\n",
    "DATA_PATH = 'data'\n",
    "klines_column_names = ['Open time', 'Open', 'High', 'Low', 'Close', 'Volume', 'Close time', 'Quote asset volume', \n",
    "                       'Number of trades', 'Taker buy base asset volume', 'Taker buy quote asset volume', 'Ignore']\n",
    "\n",
    "client = Client(api_key, api_secret, {\"timeout\": 600})\n",
    "\n",
    "if not os.path.isdir(DATA_PATH):\n",
    "    os.mkdir(DATA_PATH)"
   ]
  },
  {
   "cell_type": "code",
   "execution_count": 9,
   "id": "13f4361a",
   "metadata": {},
   "outputs": [],
   "source": [
    "intervals = {\n",
    "#              '1day': Client.KLINE_INTERVAL_1DAY,\n",
    "#              '4hour': Client.KLINE_INTERVAL_4HOUR, \n",
    "#              '1hour': Client.KLINE_INTERVAL_1HOUR,\n",
    "#              '30min': Client.KLINE_INTERVAL_30MINUTE, \n",
    "#              '15min': Client.KLINE_INTERVAL_15MINUTE, \n",
    "#              '5min': Client.KLINE_INTERVAL_5MINUTE, \n",
    "#              '3min': Client.KLINE_INTERVAL_3MINUTE, \n",
    "             '1min': Client.KLINE_INTERVAL_1MINUTE\n",
    "            }\n",
    "\n",
    "months = ['January', 'February', 'March', 'April', 'May', 'June', \n",
    "          'July', 'August', 'September', 'October', 'November', 'December']\n",
    "\n",
    "pairs = ['btcusdt', 'bnbusdt', 'xrpusdt', 'solusdt', 'bchusdt', 'eosusdt', 'atomusdt']\n",
    "\n",
    "start_day = 1\n",
    "start_month = months[6]\n",
    "start_year = 2022\n",
    "\n",
    "end_day = 1\n",
    "end_month = months[7]\n",
    "end_year = 2022"
   ]
  },
  {
   "cell_type": "code",
   "execution_count": 10,
   "id": "3464601a",
   "metadata": {},
   "outputs": [
    {
     "name": "stderr",
     "output_type": "stream",
     "text": [
      "c:\\users\\user1\\appdata\\local\\programs\\python\\python39\\lib\\site-packages\\dateparser\\date_parser.py:35: PytzUsageWarning: The localize method is no longer necessary, as this time zone supports the fold attribute (PEP 495). For more details on migrating to a PEP 495-compliant implementation, see https://pytz-deprecation-shim.readthedocs.io/en/latest/migration.html\n",
      "  date_obj = stz.localize(date_obj)\n"
     ]
    },
    {
     "name": "stdout",
     "output_type": "stream",
     "text": [
      "(44174, 11)\n"
     ]
    }
   ],
   "source": [
    "for pair in pairs:\n",
    "    if not os.path.isdir(os.path.join(DATA_PATH, str(start_year))):\n",
    "        os.mkdir(os.path.join(DATA_PATH, str(start_year)))\n",
    "\n",
    "    if not os.path.isdir(os.path.join(DATA_PATH, str(start_year), start_month.lower())):\n",
    "        os.mkdir(os.path.join(DATA_PATH, str(start_year), start_month.lower()))\n",
    "\n",
    "    start_date = '{start_day} {start_month}, {start_year}'.format(start_day=start_day, start_month=start_month, start_year=start_year)\n",
    "    end_date = '{end_day} {end_month}, {end_year}'.format(end_day=end_day, end_month=end_month, end_year=end_year)\n",
    "\n",
    "    for i in intervals:\n",
    "        klines = client.get_historical_klines(symbol = pair.upper(), \n",
    "                                     interval = intervals[i], \n",
    "                                     start_str = start_date,\n",
    "                                     end_str = end_date,\n",
    "                                     klines_type = HistoricalKlinesType.FUTURES)\n",
    "        df_klines = pd.DataFrame(klines, columns=klines_column_names).set_index('Open time')\n",
    "        df_klines.index = pd.to_datetime(df_klines.index, unit='ms')\n",
    "        df_klines = df_klines.astype({'Open':'double', 'High':'double', 'Low':'double', 'Close':'double', 'Volume': 'double'})\n",
    "\n",
    "        print(df_klines.shape)\n",
    "        df_klines.to_csv(os.path.join(DATA_PATH,\n",
    "                                      str(start_year),\n",
    "                                      start_month.lower(), \n",
    "                                      '{pair}.{interval}.{start_date}-{end_date}.csv'.format(pair=pair.lower(), interval=i, \n",
    "                                                                                             start_date=str(start_day) + start_month.lower() + str(start_year), \n",
    "                                                                                             end_date=str(end_day) + end_month.lower() + str(end_year))))"
   ]
  },
  {
   "cell_type": "code",
   "execution_count": null,
   "id": "a5a1fcd8",
   "metadata": {},
   "outputs": [],
   "source": []
  },
  {
   "cell_type": "code",
   "execution_count": null,
   "id": "d046458e",
   "metadata": {},
   "outputs": [],
   "source": []
  },
  {
   "cell_type": "code",
   "execution_count": null,
   "id": "e271e341",
   "metadata": {},
   "outputs": [],
   "source": []
  }
 ],
 "metadata": {
  "kernelspec": {
   "display_name": "Python 3 (ipykernel)",
   "language": "python",
   "name": "python3"
  },
  "language_info": {
   "codemirror_mode": {
    "name": "ipython",
    "version": 3
   },
   "file_extension": ".py",
   "mimetype": "text/x-python",
   "name": "python",
   "nbconvert_exporter": "python",
   "pygments_lexer": "ipython3",
   "version": "3.9.5"
  }
 },
 "nbformat": 4,
 "nbformat_minor": 5
}
