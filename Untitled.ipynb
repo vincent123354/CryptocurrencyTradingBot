{
 "cells": [
  {
   "cell_type": "code",
   "execution_count": 1,
   "id": "12dab285",
   "metadata": {},
   "outputs": [],
   "source": [
    "from telethon import TelegramClient, events, sync\n",
    "import re\n",
    "import requests\n",
    "import json\n",
    "import time\n",
    "from binance.client import Client\n",
    "import requests, json\n",
    "import websockets, asyncio\n"
   ]
  },
  {
   "cell_type": "code",
   "execution_count": 2,
   "id": "443423f8",
   "metadata": {},
   "outputs": [],
   "source": [
    "\n",
    "MARGIN_RATIO = 0.1 # percentage\n",
    "LEVERAGE = 20\n",
    "timeframe_entry = {\n",
    "    '5min': None,\n",
    "    '15min': None,\n",
    "    '30min': None,\n",
    "    '1hour': None,\n",
    "    '4hour': None,\n",
    "    '1day': None,\n",
    "}\n",
    "\n",
    "END_POINT = 'https://fapi.binance.com'\n",
    "STREAM_END_POINT = 'wss://fstream-auth.binance.com/ws/'\n",
    "\n",
    "# https://stackoverflow.com/questions/25491090/how-to-use-python-to-execute-a-curl-command\n",
    "api_id = 3447389\n",
    "api_hash = 'a9ffa40bea870b4051f25664d6c5c357'\n",
    "client = TelegramClient('anon', api_id, api_hash)\n",
    "\n",
    "binance_apikey = 'WaqFzORzir8JMrOl6NR6gk3UX1wuSjBBlk3kybK6YoGwtzEZTVV46oXMH2cp91aT'\n",
    "binance_apisecret = 'ZQGq05oyxTCH3K4PiMxCHFA05MHhd7cwtB3OWDysy4tghQn5EJDLmVU1EptXFuzS'\n",
    "cclient = Client(binance_apikey, binance_apisecret)\n",
    "\n",
    "info = cclient.futures_exchange_info()\n",
    "\n",
    "# -1001670590362\n",
    "@client.on(events.NewMessage(chats='-1001670590362'))\n",
    "async def handler(event):\n",
    "    print('New messages')\n",
    "    if is_open_position(event.raw_text):\n",
    "        print('Open order')\n",
    "        data = preprocess_text(event.raw_text)\n",
    "\n",
    "        pair = data['pair']\n",
    "        position = data['position']\n",
    "        entry_price = data['price']\n",
    "        timeframe = data['timeframe']\n",
    "\n",
    "        set_leverage(pair, LEVERAGE, time.time())\n",
    "\n",
    "        quantity = round(get_quantity(entry_price, get_margin(), LEVERAGE), get_precision(pair))\n",
    "\n",
    "        if timeframe_entry[timeframe] != None:\n",
    "            # close current order, open new order\n",
    "            open_order(pair, entry_price, position, timeframe_entry[timeframe]['quantity'])\n",
    "            open_order(pair, entry_price, position, quantity)\n",
    "            data['quantity'] = quantity\n",
    "            timeframe_entry[timeframe] = data\n",
    "        else:\n",
    "            open_order(pair, entry_price, position, quantity)\n",
    "            data['quantity'] = quantity\n",
    "            timeframe_entry[timeframe] = data\n",
    "\n",
    "    if is_close_position(event.raw_text):\n",
    "        print('Close order')\n",
    "        data = preprocess_text(event.raw_text)\n",
    "\n",
    "        pair = data['pair']\n",
    "        exit_price = data['price']\n",
    "        position = 'short' if timeframe_entry[timeframe]['position'] == 'long' else 'long'\n",
    "        quantity = timeframe_entry[timeframe]['quantity']\n",
    "        timeframe = data['timeframe']\n",
    "\n",
    "        if timeframe_entry[timeframe] != None:\n",
    "            open_order(pair, exit_price, position, quantity)\n",
    "            timeframe_entry[timeframe] = None\n",
    "\n",
    "\n",
    "def get_margin():\n",
    "    for balance in cclient.futures_account_balance():\n",
    "        if balance['asset'] == 'USDT':\n",
    "            return float(balance['balance']) * MARGIN_RATIO\n",
    "\n",
    "def get_precision(symbol):\n",
    "    for x in info['symbols']:\n",
    "        if x['symbol'].lower() == symbol.lower():\n",
    "            return x['quantityPrecision']\n",
    "\n",
    "def get_minimum_entry(symbol):\n",
    "    for x in info['symbols']:\n",
    "        if x['symbol'].lower() == symbol.lower():\n",
    "            return float(x['filters'][1]['minQty'])\n",
    "\n",
    "def get_quantity(price, entry_margin, leverage):\n",
    "    return (entry_margin * leverage) / price\n",
    "\n",
    "def preprocess_text(text):\n",
    "    text = text.lower().split()\n",
    "\n",
    "    position = text[0]\n",
    "    pair = (text[1] + 't').upper()\n",
    "    price = round(float(text[4].replace(',', '')), 1)\n",
    "    timeframe = text[5]\n",
    "    \n",
    "    return {\n",
    "        'pair': pair,\n",
    "        'position': position,\n",
    "        'price': price,\n",
    "        'timeframe' : timeframe,\n",
    "    }\n",
    "\n",
    "def is_open_position(text):\n",
    "    if ('long' == text.split()[0]) or ('short' == text.split()[0]):\n",
    "        return True\n",
    "    return False\n",
    "\n",
    "def is_close_position(text):\n",
    "    if 'close' == text.split()[0]:\n",
    "        return True\n",
    "    return False\n",
    "\n",
    "def open_order(symbol, entry, position, quantity):\n",
    "    side = Client.SIDE_BUY if position == 'long' else Client.SIDE_SELL\n",
    "    res = cclient.futures_create_order(symbol=symbol, side=side, type=Client.FUTURE_ORDER_TYPE_LIMIT, timeInForce=Client.TIME_IN_FORCE_GTC, quantity=quantity, price=entry)\n",
    "\n",
    "def set_leverage(symbol, leverage, timestamp):\n",
    "    cclient.futures_change_leverage(symbol=symbol, leverage=leverage, timestamp=timestamp)\n"
   ]
  },
  {
   "cell_type": "code",
   "execution_count": 4,
   "id": "871b5721",
   "metadata": {},
   "outputs": [
    {
     "name": "stdout",
     "output_type": "stream",
     "text": [
      "Start\n"
     ]
    },
    {
     "data": {
      "text/plain": [
       "<coroutine object AuthMethods._start at 0x000001FCA46E2840>"
      ]
     },
     "execution_count": 4,
     "metadata": {},
     "output_type": "execute_result"
    }
   ],
   "source": [
    "\n",
    "print('Start')\n",
    "client.start()\n",
    "# client.run_until_disconnected()\n"
   ]
  },
  {
   "cell_type": "code",
   "execution_count": 5,
   "id": "a40ad90a",
   "metadata": {},
   "outputs": [
    {
     "data": {
      "text/plain": [
       "<coroutine object TelegramBaseClient.connect at 0x000001FCA46E2540>"
      ]
     },
     "execution_count": 5,
     "metadata": {},
     "output_type": "execute_result"
    }
   ],
   "source": [
    "client.connect()"
   ]
  },
  {
   "cell_type": "code",
   "execution_count": null,
   "id": "ffd56b0b",
   "metadata": {},
   "outputs": [],
   "source": []
  },
  {
   "cell_type": "code",
   "execution_count": null,
   "id": "daf488be",
   "metadata": {},
   "outputs": [],
   "source": []
  }
 ],
 "metadata": {
  "kernelspec": {
   "display_name": "Python 3 (ipykernel)",
   "language": "python",
   "name": "python3"
  },
  "language_info": {
   "codemirror_mode": {
    "name": "ipython",
    "version": 3
   },
   "file_extension": ".py",
   "mimetype": "text/x-python",
   "name": "python",
   "nbconvert_exporter": "python",
   "pygments_lexer": "ipython3",
   "version": "3.9.5"
  }
 },
 "nbformat": 4,
 "nbformat_minor": 5
}
