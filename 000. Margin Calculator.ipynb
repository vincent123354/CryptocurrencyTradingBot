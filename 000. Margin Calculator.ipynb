{
 "cells": [
  {
   "cell_type": "code",
   "execution_count": 72,
   "id": "c6700f33",
   "metadata": {},
   "outputs": [],
   "source": [
    "# basic setting\n",
    "wallet_balance = 100\n",
    "risk = 0.5 # percentage\n",
    "leverage = 20\n",
    "\n",
    "# input\n",
    "entry = 42370\n",
    "sl = 42504"
   ]
  },
  {
   "cell_type": "code",
   "execution_count": 75,
   "id": "95a5fcb1",
   "metadata": {},
   "outputs": [
    {
     "name": "stdout",
     "output_type": "stream",
     "text": [
      "Entry margin = $7.90\n",
      "Entry amount = 0.004\n",
      "Loss percentage = 6.33%\n"
     ]
    }
   ],
   "source": [
    "if sl < entry:\n",
    "    # long trade\n",
    "    loss = (entry - sl) / entry * leverage # stoploss percentage\n",
    "    entry_margin = wallet_balance * risk / 100 / loss\n",
    "    \n",
    "if sl > entry:\n",
    "    # short trade\n",
    "    loss = (sl - entry) / entry * leverage\n",
    "    entry_margin = wallet_balance * risk / 100 / loss\n",
    "    \n",
    "print('Entry margin = ${:.2f}'.format(entry_margin))\n",
    "print('Entry amount = {:.3f}'.format(entry_margin * leverage / entry))\n",
    "print('Loss percentage = {:.2f}%'.format(loss * 100))"
   ]
  },
  {
   "cell_type": "code",
   "execution_count": null,
   "id": "b1431c4d",
   "metadata": {},
   "outputs": [],
   "source": []
  },
  {
   "cell_type": "code",
   "execution_count": null,
   "id": "8cce8fec",
   "metadata": {},
   "outputs": [],
   "source": []
  },
  {
   "cell_type": "code",
   "execution_count": null,
   "id": "738b8dc8",
   "metadata": {},
   "outputs": [],
   "source": []
  }
 ],
 "metadata": {
  "kernelspec": {
   "display_name": "Python 3 (ipykernel)",
   "language": "python",
   "name": "python3"
  },
  "language_info": {
   "codemirror_mode": {
    "name": "ipython",
    "version": 3
   },
   "file_extension": ".py",
   "mimetype": "text/x-python",
   "name": "python",
   "nbconvert_exporter": "python",
   "pygments_lexer": "ipython3",
   "version": "3.9.5"
  }
 },
 "nbformat": 4,
 "nbformat_minor": 5
}
