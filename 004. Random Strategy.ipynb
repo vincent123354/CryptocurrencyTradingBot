{
 "cells": [
  {
   "cell_type": "markdown",
   "id": "2ee09e3b",
   "metadata": {},
   "source": [
    "- Flip coin\n",
    "- Dice Roll"
   ]
  },
  {
   "cell_type": "code",
   "execution_count": 1,
   "id": "49aa8cb3",
   "metadata": {},
   "outputs": [],
   "source": [
    "# Data manipulation libraries\n",
    "import pandas as pd\n",
    "import numpy as np\n",
    "import matplotlib.pyplot as plt\n",
    "\n",
    "# Data import library\n",
    "import yfinance as yf\n",
    "\n",
    "#Data visualisation\n",
    "import plotly.graph_objs as go\n",
    "\n",
    "from binance.client import Client\n",
    "from binance.enums import HistoricalKlinesType"
   ]
  },
  {
   "cell_type": "code",
   "execution_count": 2,
   "id": "6501cfc4",
   "metadata": {},
   "outputs": [],
   "source": [
    "api_key = 'y9m94JvyDsSRyHZUQjNN1lVfDnduNMFyQxz83EW650XKwgbIXxB85xGv7CDQfW8Z'\n",
    "api_secret = 'cHvzTpnE3Qp468ZcAIadtIQSKvV6HdbXsnwbTAhlTCg9Q0uydcxVKUwP7rqLrcpl'\n",
    "\n",
    "klines_column_names = ['Open time', 'Open', 'High', 'Low', 'Close', 'Volume', 'Close time', 'Quote asset volume', \n",
    "                       'Number of trades', 'Taker buy base asset volume', 'Taker buy quote asset volume', 'Ignore']\n",
    "\n",
    "client = Client(api_key, api_secret, {\"timeout\": 60})"
   ]
  },
  {
   "cell_type": "code",
   "execution_count": 143,
   "id": "9fa29872",
   "metadata": {},
   "outputs": [],
   "source": [
    "start_date = '1 March, 2022'\n",
    "end_date = '5 March, 2022'"
   ]
  },
  {
   "cell_type": "code",
   "execution_count": 144,
   "id": "ef3bc756",
   "metadata": {},
   "outputs": [],
   "source": [
    "klines = client.get_historical_klines(symbol = \"ETHUSDT\", \n",
    "                             interval = Client.KLINE_INTERVAL_15MINUTE, \n",
    "                             start_str = start_date,\n",
    "                             end_str = end_date,\n",
    "                             klines_type = HistoricalKlinesType.FUTURES)"
   ]
  },
  {
   "cell_type": "code",
   "execution_count": 145,
   "id": "6d7b9d68",
   "metadata": {},
   "outputs": [],
   "source": [
    "df_klines = pd.DataFrame(klines, columns=klines_column_names).set_index('Open time')\n",
    "df_klines.index = pd.to_datetime(df_klines.index, unit='ms')\n",
    "df_klines = df_klines.astype({'Open':'double', 'High':'double', 'Low':'double', 'Close':'double', 'Volume': 'double'})\n",
    "\n",
    "df = df_klines[['Open', 'High', 'Low', 'Close', 'Volume']]"
   ]
  },
  {
   "cell_type": "code",
   "execution_count": 146,
   "id": "4ddb5388",
   "metadata": {},
   "outputs": [],
   "source": [
    "def dice_trade(data, threshold=4):\n",
    "    data = data.assign(random=np.random.randint(1,7,len(data)))\n",
    "    data['profit'] = 0\n",
    "\n",
    "    data.loc[data.random < threshold, 'profit'] = (data[data.random < threshold].Close - data[data.random < threshold].Open) / data[data.random < threshold].Open + 1\n",
    "    data.loc[data.random >= threshold, 'profit'] = (data[data.random >= threshold].Open - data[data.random >= threshold].Close) / data[data.random >= threshold].Open + 1\n",
    "    return data"
   ]
  },
  {
   "cell_type": "code",
   "execution_count": 147,
   "id": "924e361b",
   "metadata": {},
   "outputs": [],
   "source": [
    "def coinflip_trade(data):\n",
    "    data = data.assign(random=np.random.randint(1,3,len(data)))\n",
    "    data['profit'] = 0\n",
    "\n",
    "    data.loc[data.random == 1, 'profit'] = (data[data.random == 1].Close - data[data.random == 1].Open) / data[data.random == 1].Open + 1\n",
    "    data.loc[data.random == 2, 'profit'] = (data[data.random == 2].Open - data[data.random == 2].Close) / data[data.random == 2].Open + 1\n",
    "    return data"
   ]
  },
  {
   "cell_type": "code",
   "execution_count": 159,
   "id": "99815c4d",
   "metadata": {},
   "outputs": [
    {
     "data": {
      "text/plain": [
       "Open time\n",
       "2022-03-01 00:00:00    1.012876\n",
       "2022-03-01 00:15:00    1.009243\n",
       "2022-03-01 00:30:00    1.008267\n",
       "2022-03-01 00:45:00    1.009101\n",
       "2022-03-01 01:00:00    1.016763\n",
       "                         ...   \n",
       "2022-03-04 23:00:00    1.105321\n",
       "2022-03-04 23:15:00    1.106791\n",
       "2022-03-04 23:30:00    1.103657\n",
       "2022-03-04 23:45:00    1.103177\n",
       "2022-03-05 00:00:00    1.100256\n",
       "Name: profit, Length: 385, dtype: float64"
      ]
     },
     "execution_count": 159,
     "metadata": {},
     "output_type": "execute_result"
    }
   ],
   "source": [
    "dice_trade(df, threshold=5).profit.cumprod()"
   ]
  },
  {
   "cell_type": "code",
   "execution_count": 149,
   "id": "6316c640",
   "metadata": {},
   "outputs": [
    {
     "data": {
      "text/plain": [
       "Open time\n",
       "2022-03-01 00:00:00    0.987124\n",
       "2022-03-01 00:15:00    0.990665\n",
       "2022-03-01 00:30:00    0.989707\n",
       "2022-03-01 00:45:00    0.990525\n",
       "2022-03-01 01:00:00    0.998046\n",
       "                         ...   \n",
       "2022-03-04 23:00:00    0.892057\n",
       "2022-03-04 23:15:00    0.890871\n",
       "2022-03-04 23:30:00    0.893393\n",
       "2022-03-04 23:45:00    0.893004\n",
       "2022-03-05 00:00:00    0.890639\n",
       "Name: profit, Length: 385, dtype: float64"
      ]
     },
     "execution_count": 149,
     "metadata": {},
     "output_type": "execute_result"
    }
   ],
   "source": [
    "coinflip_trade(df).profit.cumprod()"
   ]
  },
  {
   "cell_type": "code",
   "execution_count": null,
   "id": "42f6c440",
   "metadata": {},
   "outputs": [],
   "source": []
  },
  {
   "cell_type": "code",
   "execution_count": null,
   "id": "42b650cd",
   "metadata": {},
   "outputs": [],
   "source": []
  },
  {
   "cell_type": "code",
   "execution_count": null,
   "id": "f6bbb899",
   "metadata": {},
   "outputs": [],
   "source": []
  },
  {
   "cell_type": "code",
   "execution_count": null,
   "id": "32a66121",
   "metadata": {},
   "outputs": [],
   "source": []
  }
 ],
 "metadata": {
  "kernelspec": {
   "display_name": "Python 3 (ipykernel)",
   "language": "python",
   "name": "python3"
  },
  "language_info": {
   "codemirror_mode": {
    "name": "ipython",
    "version": 3
   },
   "file_extension": ".py",
   "mimetype": "text/x-python",
   "name": "python",
   "nbconvert_exporter": "python",
   "pygments_lexer": "ipython3",
   "version": "3.9.5"
  }
 },
 "nbformat": 4,
 "nbformat_minor": 5
}
